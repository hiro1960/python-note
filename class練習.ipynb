{
 "cells": [
  {
   "cell_type": "markdown",
   "metadata": {},
   "source": [
    "jupyterでのclassを練習してみる（ついでに設定辞書の確認を行う）"
   ]
  },
  {
   "cell_type": "code",
   "execution_count": 1,
   "metadata": {},
   "outputs": [],
   "source": [
    "sample_settings = {\n",
    "    'm0':1234.5,  # 重量\n",
    "    'Isp':286,    # 被推力\n",
    "}"
   ]
  },
  {
   "cell_type": "markdown",
   "metadata": {},
   "source": [
    "JSONタイプのディクショナリとして初期値を定義"
   ]
  },
  {
   "cell_type": "code",
   "execution_count": 2,
   "metadata": {},
   "outputs": [],
   "source": [
    "class Calc:\n",
    "    def __init__(self, a, b):\n",
    "        self.a = a\n",
    "        self.b = b\n",
    "    \n",
    "    def Sum(self):\n",
    "        self.sum = self.a + self.b\n",
    "        return self.sum"
   ]
  },
  {
   "cell_type": "code",
   "execution_count": 3,
   "metadata": {},
   "outputs": [],
   "source": [
    "class Calc2:\n",
    "    def __init__(self, a, b):\n",
    "        self.a = a\n",
    "        self.b = b\n",
    "    \n",
    "    def Minus(self):\n",
    "        self.sum = self.a - self.b\n",
    "        return self.sum\n",
    "    \n",
    "    def Print( self,**kwargs ):\n",
    "        print('m0 ={0}, Isp = {1}'.format(kwargs['m0'], kwargs['Isp']))\n",
    "        \n",
    "    def Print2(self):\n",
    "        set = Setting()  # 初期値クラスのオブジェクト\n",
    "        print(\"class内のsetの出力\")\n",
    "        print(set.value('name'))\n",
    "        print(set.value('tall'))"
   ]
  },
  {
   "cell_type": "markdown",
   "metadata": {},
   "source": [
    "初期値を設定するクラスを作ってみる（Singletonパターンにして、複数個所で生成されても一つだけになるようにした）"
   ]
  },
  {
   "cell_type": "code",
   "execution_count": 4,
   "metadata": {},
   "outputs": [],
   "source": [
    "class Singleton(object):\n",
    "    def __new__(cls, *args, **kargs):\n",
    "        if not hasattr(cls, \"_instance\"):\n",
    "            cls._instance = super(Singleton, cls).__new__(cls)\n",
    "        return cls._instance\n",
    "\n",
    "class Setting(Singleton):\n",
    "    def __init__(self):\n",
    "        self.settings = {  # 初期値群\n",
    "            'name':\"hiro\",\n",
    "            'tall':180.0\n",
    "        }\n",
    "        \n",
    "    def value(self, a):  # 値の取り出し関数\n",
    "        return self.settings[a]"
   ]
  },
  {
   "cell_type": "code",
   "execution_count": 5,
   "metadata": {},
   "outputs": [
    {
     "name": "stdout",
     "output_type": "stream",
     "text": [
      "5\n",
      "2\n",
      "m0 =1234.5, Isp = 286\n",
      "setの出力\n",
      "hiro\n",
      "180.0\n",
      "set2の出力\n",
      "hiro\n",
      "180.0\n",
      "class内のsetの出力\n",
      "hiro\n",
      "180.0\n"
     ]
    }
   ],
   "source": [
    "ins = Calc(2, 3)\n",
    "print(ins.Sum())\n",
    "ans = Calc2(5, 3)\n",
    "print(ans.Minus())\n",
    "# ディクショナリをメインで作成している（あまりスマートではない）\n",
    "ans.Print( **sample_settings )\n",
    "\n",
    "set = Setting()  # 初期値クラスのオブジェクト\n",
    "print(\"setの出力\")\n",
    "print(set.value('name'))\n",
    "print(set.value('tall'))\n",
    "\n",
    "set2 = Setting() # 初期値クラスのオブジェクト（Singletonにしてあるので、同じインスタンスになる）\n",
    "print(\"set2の出力\")\n",
    "print(set2.value('name'))\n",
    "print(set2.value('tall'))\n",
    "\n",
    "ans.Print2()  # class Calc2内部で初期値設定のclass Settingを生成してみた"
   ]
  },
  {
   "cell_type": "markdown",
   "metadata": {},
   "source": [
    "ディクショナリを引数で渡すときは、\"**\"が必要なことに注意！"
   ]
  }
 ],
 "metadata": {
  "kernelspec": {
   "display_name": "Python 3",
   "language": "python",
   "name": "python3"
  },
  "language_info": {
   "codemirror_mode": {
    "name": "ipython",
    "version": 3
   },
   "file_extension": ".py",
   "mimetype": "text/x-python",
   "name": "python",
   "nbconvert_exporter": "python",
   "pygments_lexer": "ipython3",
   "version": "3.6.9"
  }
 },
 "nbformat": 4,
 "nbformat_minor": 2
}
