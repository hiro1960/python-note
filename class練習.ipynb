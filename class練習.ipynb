{
 "cells": [
  {
   "cell_type": "markdown",
   "metadata": {},
   "source": [
    "jupyterでのclassを練習してみる（ついでに設定辞書の確認を行う）"
   ]
  },
  {
   "cell_type": "code",
   "execution_count": 1,
   "metadata": {},
   "outputs": [],
   "source": [
    "sample_settings = {\n",
    "    'm0':1234.5,  # 重量\n",
    "    'Isp':286,    # 被推力\n",
    "}"
   ]
  },
  {
   "cell_type": "markdown",
   "metadata": {},
   "source": [
    "JSONタイプのディクショナリとして初期値を定義"
   ]
  },
  {
   "cell_type": "code",
   "execution_count": 2,
   "metadata": {},
   "outputs": [],
   "source": [
    "class Calc:\n",
    "    def __init__(self, a, b):\n",
    "        self.a = a\n",
    "        self.b = b\n",
    "    \n",
    "    def Sum(self):\n",
    "        self.sum = self.a + self.b\n",
    "        return self.sum"
   ]
  },
  {
   "cell_type": "code",
   "execution_count": 3,
   "metadata": {},
   "outputs": [],
   "source": [
    "class Calc2:\n",
    "    def __init__(self, a, b):\n",
    "        self.a = a\n",
    "        self.b = b\n",
    "    \n",
    "    def Minus(self):\n",
    "        self.sum = self.a - self.b\n",
    "        return self.sum\n",
    "    \n",
    "    def Print( self,**kwargs ):\n",
    "        print('m0 ={0}, Isp = {1}'.format(kwargs['m0'], kwargs['Isp']))"
   ]
  },
  {
   "cell_type": "markdown",
   "metadata": {},
   "source": [
    "初期値を設定するクラスを作ってみる"
   ]
  },
  {
   "cell_type": "code",
   "execution_count": 4,
   "metadata": {},
   "outputs": [],
   "source": [
    "class Setting:\n",
    "    def __init__(self):\n",
    "        self.settings = {  # 初期値群\n",
    "            'name':\"hiro\",\n",
    "            'tall':180.0\n",
    "        }\n",
    "        \n",
    "    def value(self, a):  # 値の取り出し関数\n",
    "        return self.settings[a]"
   ]
  },
  {
   "cell_type": "code",
   "execution_count": 5,
   "metadata": {},
   "outputs": [
    {
     "name": "stdout",
     "output_type": "stream",
     "text": [
      "5\n",
      "2\n",
      "m0 =1234.5, Isp = 286\n",
      "hiro\n",
      "180.0\n"
     ]
    }
   ],
   "source": [
    "ins = Calc(2, 3)\n",
    "print(ins.Sum())\n",
    "ans = Calc2(5, 3)\n",
    "print(ans.Minus())\n",
    "ans.Print( **sample_settings )\n",
    "\n",
    "set = Setting()  # 初期値クラスのオブジェクト\n",
    "print(set.value('name'))\n",
    "print(set.value('tall'))\n"
   ]
  },
  {
   "cell_type": "markdown",
   "metadata": {},
   "source": [
    "ディクショナリを引数で渡すときは、\"**\"が必要なことに注意！"
   ]
  }
 ],
 "metadata": {
  "kernelspec": {
   "display_name": "Python 3",
   "language": "python",
   "name": "python3"
  },
  "language_info": {
   "codemirror_mode": {
    "name": "ipython",
    "version": 3
   },
   "file_extension": ".py",
   "mimetype": "text/x-python",
   "name": "python",
   "nbconvert_exporter": "python",
   "pygments_lexer": "ipython3",
   "version": "3.6.9"
  }
 },
 "nbformat": 4,
 "nbformat_minor": 2
}
