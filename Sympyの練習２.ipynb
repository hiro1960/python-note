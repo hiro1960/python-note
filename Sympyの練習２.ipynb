{
 "cells": [
  {
   "cell_type": "markdown",
   "metadata": {},
   "source": [
    "連立方程式を解く"
   ]
  },
  {
   "cell_type": "code",
   "execution_count": 1,
   "metadata": {},
   "outputs": [
    {
     "name": "stdout",
     "output_type": "stream",
     "text": [
      "連立方程式を解く\n",
      "{x: 3, y: 4}\n",
      "２次方程式の根を求める\n",
      "[1, 2]\n",
      "虚数は「I」で表現される\n",
      "[-1/2 - sqrt(3)*I/2, -1/2 + sqrt(3)*I/2]\n",
      "引数で何について解くか指定する\n",
      "[4 - y**2]\n",
      "[-sqrt(4 - x), sqrt(4 - x)]\n",
      "微分する\n",
      "3*x**2 + 4*x + 1\n",
      "複数の変数を含む式に対して、微分変数を指定する\n",
      "3*x**2\n",
      "2*y - 1\n",
      "積分する\n",
      "x**3 + 2*x**2 + x\n"
     ]
    }
   ],
   "source": [
    "import sympy\n",
    "\n",
    "x = sympy.Symbol('x')\n",
    "y = sympy.Symbol('y')\n",
    "\n",
    "expr1 = 3 * x + 5 * y - 29\n",
    "expr2 = x + y - 7\n",
    "\n",
    "print(\"連立方程式を解く\")\n",
    "print(sympy.solve([expr1, expr2]))\n",
    "\n",
    "print(\"２次方程式の根を求める\")\n",
    "print(sympy.solve(x**2 - 3 * x + 2))\n",
    "\n",
    "print(\"虚数は「I」で表現される\")\n",
    "print(sympy.solve(x**2 + x + 1))\n",
    "\n",
    "expr = x + y**2 - 4\n",
    "\n",
    "print(\"引数で何について解くか指定する\")\n",
    "print(sympy.solve(expr, x))\n",
    "print(sympy.solve(expr, y))\n",
    "\n",
    "print(\"微分する\")\n",
    "print(sympy.diff(x**3 + 2 * x**2 + x))\n",
    "\n",
    "print(\"複数の変数を含む式に対して、微分変数を指定する\")\n",
    "expr = x**3 + y**2 - y\n",
    "\n",
    "print(sympy.diff(expr, x))\n",
    "print(sympy.diff(expr, y))\n",
    "\n",
    "print(\"積分する\")\n",
    "print(sympy.integrate(3 * x**2 + 4 * x + 1))"
   ]
  },
  {
   "cell_type": "code",
   "execution_count": null,
   "metadata": {},
   "outputs": [],
   "source": []
  }
 ],
 "metadata": {
  "kernelspec": {
   "display_name": "Python 3",
   "language": "python",
   "name": "python3"
  },
  "language_info": {
   "codemirror_mode": {
    "name": "ipython",
    "version": 3
   },
   "file_extension": ".py",
   "mimetype": "text/x-python",
   "name": "python",
   "nbconvert_exporter": "python",
   "pygments_lexer": "ipython3",
   "version": "3.7.4"
  }
 },
 "nbformat": 4,
 "nbformat_minor": 2
}
